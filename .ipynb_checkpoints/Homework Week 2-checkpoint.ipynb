{
 "cells": [
  {
   "cell_type": "markdown",
   "metadata": {},
   "source": [
    "## Week 2 Homework assignment\n",
    "\n",
    "Write code to read in the information from the xyz file and measure the distance between all the atoms.\n",
    "print in file:\n",
    "\n",
    "O to O: 0.0\n",
    "O to H1: 0.969\n",
    ".\n",
    ".\n",
    ".\n",
    "H2 to H2: 0.0\n",
    "Extensions: Get rid of duplicates, print only bonded distances, meet cut off"
   ]
  },
  {
   "cell_type": "code",
   "execution_count": 1,
   "metadata": {},
   "outputs": [],
   "source": [
    "#Everything is assumed to be in angstroms.\n",
    "import os\n",
    "import numpy as np"
   ]
  },
  {
   "cell_type": "code",
   "execution_count": 2,
   "metadata": {},
   "outputs": [],
   "source": [
    "#Path to file\n",
    "path_file=os.path.join('data','water.xyz')"
   ]
  },
  {
   "cell_type": "code",
   "execution_count": 5,
   "metadata": {},
   "outputs": [],
   "source": [
    "#Open file, read the lines and store in 'lines', close the file.\n",
    "water_file=open(path_file,'r')\n",
    "lines=water_file.readlines()\n",
    "water_file.close()\n",
    "#List with element names.\n",
    "Element=[]\n",
    "#Initialise 2D np array with zeros in which atomic positions will be recorded.\n",
    "Pos=np.zeros((3,3))\n",
    "#From 'lines' read in the name of different elements and their associated positions.\n",
    "#Start from 2 as atomic positions start on line 3.\n",
    "for i in range(2,len(lines)):\n",
    "    #Append name of atom.\n",
    "    Element.append(lines[i].split()[0])\n",
    "    #Loop over x, y and z coordinates of the atom.\n",
    "    for j in range(3):\n",
    "        #Note the i-2 is so that the index matches that of the array defined above.\n",
    "        Pos[i-2][j]=lines[i].split()[j+1]\n",
    "\n",
    "#Array to store all the distances\n",
    "distance=np.zeros(9)\n",
    "#List to store atomic pairs\n",
    "Pair=[]\n",
    "#File to store results.\n",
    "Homework_week_2=open('HW_week_2.0','w+')\n",
    "#Dummy variable that increases to index all the pairs.\n",
    "n=0\n",
    "#Nested loop to go over all atomic pairs.\n",
    "for i in range(len(Pos)):\n",
    "    for j in range(len(Pos)):\n",
    "        #Expression for distance between two points.\n",
    "        distance[n]=np.sqrt(np.sum((Pos[i]-Pos[j])**2))\n",
    "        Pair.append(str(Element[i])+' to '+str(Element[j]+':'))\n",
    "        Homework_week_2.write(F'{Pair[n]} {distance[n]} \\n')\n",
    "        n+=1\n",
    "Homework_week_2.close()"
   ]
  },
  {
   "cell_type": "code",
   "execution_count": 7,
   "metadata": {},
   "outputs": [
    {
     "name": "stdout",
     "output_type": "stream",
     "text": [
      "0.9690005374652793\n",
      "0.9690003348647513\n",
      "1.52693633514957\n"
     ]
    }
   ],
   "source": [
    "# This is essentially the same but prints the minimum number of pair distances.\n",
    "water_file=open(path_file,'r')\n",
    "lines=water_file.readlines()\n",
    "water_file.close()\n",
    "Element=[]\n",
    "Pos=np.zeros((3,3))\n",
    "for i in range(2,len(lines)):\n",
    "    Element.append(lines[i].split()[0])\n",
    "    for j in range(3):\n",
    "        Pos[i-2][j]=lines[i].split()[j+1]\n",
    "\n",
    "distance=np.zeros(9)\n",
    "Pair=[]\n",
    "Homework_week_2=open('HW_week_2.1','w+')\n",
    "n=0\n",
    "for i in range(len(Pos)):\n",
    "    #Start the second loop at the index of the first+1 to get rid of 0 distances (H1-H1) and repeat distances (O-H1/H1-O)\n",
    "    for j in range(i+1,len(Pos)):\n",
    "        distance[n]=np.sqrt(np.sum((Pos[i]-Pos[j])**2))\n",
    "        Pair.append(str(Element[i])+' to '+str(Element[j]+':'))\n",
    "        Homework_week_2.write(F'{Pair[n]} {distance[n]} \\n')\n",
    "        print(distance[n])\n",
    "        n+=1\n",
    "Homework_week_2.close()"
   ]
  },
  {
   "cell_type": "code",
   "execution_count": 9,
   "metadata": {},
   "outputs": [],
   "source": [
    "#Identical to above but with an if statement in the nested loop to check whether\n",
    "# an atomic distance is shorter than a typical bond length 'bond_distance'.\n",
    "water_file=open(path_file,'r')\n",
    "lines=water_file.readlines()\n",
    "water_file.close()\n",
    "Element=[]\n",
    "Pos=np.zeros((3,3))\n",
    "for i in range(2,len(lines)):\n",
    "    Element.append(lines[i].split()[0])\n",
    "    for j in range(3):\n",
    "        Pos[i-2][j]=lines[i].split()[j+1]\n",
    "\n",
    "bond_distance=1.00 #larger than typical O-H (0.96) and H-H (0.74)  bond lengths.\n",
    "distance=np.zeros(9)\n",
    "Pair=[]\n",
    "Homework_week_2=open('HW_week_2.2','w+')\n",
    "n=0\n",
    "for i in range(len(Pos)):\n",
    "    for j in range(i+1,len(Pos)):\n",
    "        distance[n]=np.sqrt(np.sum((Pos[i]-Pos[j])**2))\n",
    "        Pair.append(str(Element[i])+' to '+str(Element[j]+':'))\n",
    "        if distance[n] < bond_distance:\n",
    "            Homework_week_2.write(F'{Pair[n]} {distance[n]} \\n')\n",
    "        n+=1\n",
    "Homework_week_2.close()"
   ]
  },
  {
   "cell_type": "code",
   "execution_count": 6,
   "metadata": {},
   "outputs": [],
   "source": [
    "#Unicode\n",
    "xyz_file=np.genfromtxt(path_file,skip_header=2,dtype='unicode')"
   ]
  },
  {
   "cell_type": "code",
   "execution_count": 9,
   "metadata": {},
   "outputs": [],
   "source": [
    "symbols=xyz_file[:,0]\n",
    "coordinates=xyz_file[:,1:]\n",
    "coordinates=coordinates.astype(np.float)"
   ]
  },
  {
   "cell_type": "code",
   "execution_count": 10,
   "metadata": {},
   "outputs": [
    {
     "data": {
      "text/plain": [
       "array(['O', 'H1', 'H2'], dtype='<U9')"
      ]
     },
     "execution_count": 10,
     "metadata": {},
     "output_type": "execute_result"
    }
   ],
   "source": [
    "symbols"
   ]
  },
  {
   "cell_type": "code",
   "execution_count": 11,
   "metadata": {},
   "outputs": [
    {
     "data": {
      "text/plain": [
       "array([[ 0.      , -0.007156,  0.965491],\n",
       "       [-0.      ,  0.001486, -0.003471],\n",
       "       [ 0.      ,  0.931026,  1.207929]])"
      ]
     },
     "execution_count": 11,
     "metadata": {},
     "output_type": "execute_result"
    }
   ],
   "source": [
    "coordinates"
   ]
  },
  {
   "cell_type": "code",
   "execution_count": 20,
   "metadata": {},
   "outputs": [
    {
     "name": "stdout",
     "output_type": "stream",
     "text": [
      "O to O : 0.000\n",
      "O to H1 : 0.969\n",
      "O to H2 : 0.969\n",
      "H1 to O : 0.969\n",
      "H1 to H1 : 0.000\n",
      "H1 to H2 : 1.527\n",
      "H2 to O : 0.969\n",
      "H2 to H1 : 1.527\n",
      "H2 to H2 : 0.000\n"
     ]
    }
   ],
   "source": [
    "num_atoms = len(symbols)\n",
    "for num1 in range(0,num_atoms):\n",
    "    for num2 in range(0,num_atoms):\n",
    "        x_distance = coordinates[num1,0] - coordinates[num2,0]\n",
    "        y_distance = coordinates[num1,1] - coordinates[num2,1]\n",
    "        z_distance = coordinates[num1,2] - coordinates[num2,2]\n",
    "        distance = np.sqrt(x_distance**2+y_distance**2+z_distance**2)\n",
    "        #print 3 after the dot: :.3f\n",
    "        print(F'{symbols[num1]} to {symbols[num2]} : {distance:.3f}')"
   ]
  },
  {
   "cell_type": "code",
   "execution_count": null,
   "metadata": {},
   "outputs": [],
   "source": []
  }
 ],
 "metadata": {
  "kernelspec": {
   "display_name": "Python 3",
   "language": "python",
   "name": "python3"
  },
  "language_info": {
   "codemirror_mode": {
    "name": "ipython",
    "version": 3
   },
   "file_extension": ".py",
   "mimetype": "text/x-python",
   "name": "python",
   "nbconvert_exporter": "python",
   "pygments_lexer": "ipython3",
   "version": "3.7.6"
  }
 },
 "nbformat": 4,
 "nbformat_minor": 4
}
