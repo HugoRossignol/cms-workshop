{
 "cells": [
  {
   "cell_type": "markdown",
   "metadata": {},
   "source": [
    "## Get from Text"
   ]
  },
  {
   "cell_type": "code",
   "execution_count": 1,
   "metadata": {},
   "outputs": [],
   "source": [
    "import os"
   ]
  },
  {
   "cell_type": "code",
   "execution_count": 2,
   "metadata": {},
   "outputs": [],
   "source": [
    "path = os.path.join('data','03_Prod.mdout')"
   ]
  },
  {
   "cell_type": "code",
   "execution_count": 3,
   "metadata": {},
   "outputs": [],
   "source": [
    "MD_file=open(path,'r')\n",
    "lines=MD_file.readlines()\n",
    "MD_file.close()"
   ]
  },
  {
   "cell_type": "code",
   "execution_count": 4,
   "metadata": {},
   "outputs": [],
   "source": [
    "Results_HW_1=open('Etot.txt','w+')\n",
    "for i in lines:\n",
    "    if 'Etot' in i:\n",
    "        Results_HW_1.write(F'{i.split()[2]}\\n')\n",
    "    if 'NSTEP' in i:\n",
    "        Results_HW_1.write(F'{i.split()[2]}\\n')\n",
    "Results_HW_1.close()"
   ]
  },
  {
   "cell_type": "code",
   "execution_count": 5,
   "metadata": {},
   "outputs": [
    {
     "name": "stdout",
     "output_type": "stream",
     "text": [
      "Etot.txt\r\n",
      "File_Parsing.ipynb\r\n",
      "HW_week_2\r\n",
      "HW_week_2.1\r\n",
      "HW_week_2.2\r\n",
      "Homework Week 2.ipynb\r\n",
      "Homework_Week_1.ipynb\r\n",
      "MolSSI_Workshop.ipynb\r\n",
      "Plotting.ipynb\r\n",
      "Results\r\n",
      "Results_HW_1\r\n",
      "THR4_ASP.png\r\n",
      "THR4_ATP.png\r\n",
      "TYR6_ASP.png\r\n",
      "TYR6_ATP.png\r\n",
      "Tabular Data.ipynb\r\n",
      "all_sample.png\r\n",
      "\u001b[1m\u001b[34mdata\u001b[m\u001b[m/\r\n",
      "jessica_comments_rossignolhugoalexandre_144175_13088183_Homework_Week_1.ipynb\r\n",
      "twosamples.png\r\n"
     ]
    }
   ],
   "source": [
    "ls"
   ]
  },
  {
   "cell_type": "code",
   "execution_count": 6,
   "metadata": {},
   "outputs": [],
   "source": [
    "less Etot.txt"
   ]
  },
  {
   "cell_type": "code",
   "execution_count": 7,
   "metadata": {},
   "outputs": [],
   "source": [
    "# Hello! Here are some very slight modifications to your code that will produce a better result if you intend to read\n",
    "# the file in later (particulary if you want to parse it as tabular data like we talked about this week.)\n",
    "\n",
    "# The first modification is to look for 'NSTEP' first. Next, instead of using a newline character (/n), \n",
    "# use a tab character (/t) to separate the values.\n",
    "\n",
    "# Finally, another modification you could think of if you wanted to have multiple columns is column labels\n",
    "# It wasn't part of the assingment, but you could do it :)\n",
    "\n",
    "Results_HW_1=open('Etot_2columns.txt','w+')\n",
    "\n",
    "# Write the column labels\n",
    "Results_HW_1.write('NSTEP\\tEtot\\n')\n",
    "\n",
    "for i in lines:\n",
    "    if 'NSTEP' in i:\n",
    "        Results_HW_1.write(F'{i.split()[2]}\\t')\n",
    "    if 'Etot' in i:\n",
    "        Results_HW_1.write(F'{i.split()[2]}\\n')\n",
    "Results_HW_1.close()"
   ]
  },
  {
   "cell_type": "code",
   "execution_count": 8,
   "metadata": {},
   "outputs": [
    {
     "name": "stdout",
     "output_type": "stream",
     "text": [
      "Etot.txt\r\n",
      "Etot_2columns.txt\r\n",
      "File_Parsing.ipynb\r\n",
      "HW_week_2\r\n",
      "HW_week_2.1\r\n",
      "HW_week_2.2\r\n",
      "Homework Week 2.ipynb\r\n",
      "Homework_Week_1.ipynb\r\n",
      "MolSSI_Workshop.ipynb\r\n",
      "Plotting.ipynb\r\n",
      "Results\r\n",
      "Results_HW_1\r\n",
      "THR4_ASP.png\r\n",
      "THR4_ATP.png\r\n",
      "TYR6_ASP.png\r\n",
      "TYR6_ATP.png\r\n",
      "Tabular Data.ipynb\r\n",
      "all_sample.png\r\n",
      "\u001b[1m\u001b[34mdata\u001b[m\u001b[m/\r\n",
      "jessica_comments_rossignolhugoalexandre_144175_13088183_Homework_Week_1.ipynb\r\n",
      "twosamples.png\r\n"
     ]
    }
   ],
   "source": [
    "ls"
   ]
  },
  {
   "cell_type": "code",
   "execution_count": 9,
   "metadata": {},
   "outputs": [],
   "source": [
    "less Etot_2columns.txt"
   ]
  },
  {
   "cell_type": "code",
   "execution_count": null,
   "metadata": {},
   "outputs": [],
   "source": []
  }
 ],
 "metadata": {
  "kernelspec": {
   "display_name": "Python 3",
   "language": "python",
   "name": "python3"
  },
  "language_info": {
   "codemirror_mode": {
    "name": "ipython",
    "version": 3
   },
   "file_extension": ".py",
   "mimetype": "text/x-python",
   "name": "python",
   "nbconvert_exporter": "python",
   "pygments_lexer": "ipython3",
   "version": "3.7.6"
  }
 },
 "nbformat": 4,
 "nbformat_minor": 4
}
