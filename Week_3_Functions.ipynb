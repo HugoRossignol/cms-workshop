{
 "cells": [
  {
   "cell_type": "markdown",
   "metadata": {},
   "source": [
    "## Writing Functions"
   ]
  },
  {
   "cell_type": "code",
   "execution_count": null,
   "metadata": {},
   "outputs": [],
   "source": [
    "#A function should only perform one computational task\n",
    "#Focus on making function as simpe as possible"
   ]
  },
  {
   "cell_type": "code",
   "execution_count": 5,
   "metadata": {},
   "outputs": [],
   "source": [
    "#def function_name(parameters):\n",
    "#   function code body\n",
    "#    use parameters\n",
    "#    return value_to_return"
   ]
  },
  {
   "cell_type": "code",
   "execution_count": 1,
   "metadata": {},
   "outputs": [],
   "source": [
    "def calculate_distance(atom1_coord, atom2_coord):\n",
    "    x_distance = atom1_coord[0] - atom2_coord[0]\n",
    "    y_distance = atom1_coord[1] - atom2_coord[1]\n",
    "    z_distance = atom1_coord[2] - atom2_coord[2]\n",
    "    distance = np.sqrt(x_distance**2+y_distance**2+z_distance**2)\n",
    "    return distance"
   ]
  },
  {
   "cell_type": "code",
   "execution_count": 2,
   "metadata": {},
   "outputs": [
    {
     "name": "stdout",
     "output_type": "stream",
     "text": [
      "O to H1 : 0.969\n",
      "O to H2 : 0.969\n",
      "H1 to O : 0.969\n",
      "H2 to O : 0.969\n"
     ]
    }
   ],
   "source": [
    "import os\n",
    "import numpy as np\n",
    "path_file=os.path.join('data','water.xyz')\n",
    "xyz_file=np.genfromtxt(path_file,skip_header=2,dtype='unicode')\n",
    "symbols=xyz_file[:,0]\n",
    "coordinates=xyz_file[:,1:]\n",
    "coordinates=coordinates.astype(np.float)\n",
    "num_atoms = len(symbols)\n",
    "for num1 in range(0,num_atoms):\n",
    "    for num2 in range(0,num_atoms):\n",
    "        distance=calculate_distance(coordinates[num1],coordinates[num2])\n",
    "        #print 3 after the dot: :.3f\n",
    "        if distance > 0 and distance <= 1.5:\n",
    "            print(F'{symbols[num1]} to {symbols[num2]} : {distance:.3f}')"
   ]
  },
  {
   "cell_type": "code",
   "execution_count": 13,
   "metadata": {},
   "outputs": [
    {
     "data": {
      "text/plain": [
       "1.0"
      ]
     },
     "execution_count": 13,
     "metadata": {},
     "output_type": "execute_result"
    }
   ],
   "source": [
    "calculate_distance([0,0,0],[0,0,1])"
   ]
  },
  {
   "cell_type": "code",
   "execution_count": 14,
   "metadata": {},
   "outputs": [],
   "source": [
    "def bond_check(distance):\n",
    "    if distance > 0 and distance < 1.5:\n",
    "        return True\n",
    "    else:\n",
    "        return False"
   ]
  },
  {
   "cell_type": "code",
   "execution_count": 15,
   "metadata": {},
   "outputs": [
    {
     "data": {
      "text/plain": [
       "True"
      ]
     },
     "execution_count": 15,
     "metadata": {},
     "output_type": "execute_result"
    }
   ],
   "source": [
    "bond_check(1.2)"
   ]
  },
  {
   "cell_type": "code",
   "execution_count": 17,
   "metadata": {},
   "outputs": [
    {
     "data": {
      "text/plain": [
       "False"
      ]
     },
     "execution_count": 17,
     "metadata": {},
     "output_type": "execute_result"
    }
   ],
   "source": [
    "bond_check(5.0)"
   ]
  },
  {
   "cell_type": "code",
   "execution_count": 4,
   "metadata": {},
   "outputs": [],
   "source": [
    "def bond_check_new(distance,min_bond=0,max_bond=1.5):\n",
    "    if distance > min_bond and distance < max_bond:\n",
    "        return True\n",
    "    else:\n",
    "        return False"
   ]
  },
  {
   "cell_type": "code",
   "execution_count": 9,
   "metadata": {},
   "outputs": [
    {
     "data": {
      "text/plain": [
       "True"
      ]
     },
     "execution_count": 9,
     "metadata": {},
     "output_type": "execute_result"
    }
   ],
   "source": [
    "bond_check_new(min_bond=1.2,max_bond=1.3,distance=1.25)"
   ]
  },
  {
   "cell_type": "code",
   "execution_count": 10,
   "metadata": {},
   "outputs": [],
   "source": [
    "def calculate_distance(atom1_coord, atom2_coord):\n",
    "    \"\"\"\n",
    "    Calculates distance between two points in 3D space.\n",
    "    Inputs: coordinates of two atoms\n",
    "    Return: distance between the atoms\n",
    "    \"\"\"\n",
    "    x_distance = atom1_coord[0] - atom2_coord[0]\n",
    "    y_distance = atom1_coord[1] - atom2_coord[1]\n",
    "    z_distance = atom1_coord[2] - atom2_coord[2]\n",
    "    distance = np.sqrt(x_distance**2+y_distance**2+z_distance**2)\n",
    "    return distance"
   ]
  },
  {
   "cell_type": "code",
   "execution_count": 11,
   "metadata": {},
   "outputs": [
    {
     "name": "stdout",
     "output_type": "stream",
     "text": [
      "Help on function calculate_distance in module __main__:\n",
      "\n",
      "calculate_distance(atom1_coord, atom2_coord)\n",
      "    Calculates distance between two points in 3D space.\n",
      "    Inputs: coordinates of two atoms\n",
      "    Return: distance between the atoms\n",
      "\n"
     ]
    }
   ],
   "source": [
    "help(calculate_distance)"
   ]
  },
  {
   "cell_type": "code",
   "execution_count": 31,
   "metadata": {},
   "outputs": [],
   "source": [
    "def open_xyz(file_path):\n",
    "    \"\"\"\n",
    "    Opens xyz file, seperates coordinates and symbols and recasts the coordinates as floats.\n",
    "    \"\"\"\n",
    "    xyz_file=np.genfromtxt(file_path,skip_header=2,dtype='unicode')\n",
    "    symbols=xyz_file[:,0]\n",
    "    coordinates=xyz_file[:,1:]\n",
    "    coordinates=coordinates.astype(np.float)\n",
    "    return symbols, coordinates"
   ]
  },
  {
   "cell_type": "code",
   "execution_count": 30,
   "metadata": {},
   "outputs": [
    {
     "data": {
      "text/plain": [
       "(array(['O', 'H1', 'H2'], dtype='<U9'),\n",
       " array([[ 0.      , -0.007156,  0.965491],\n",
       "        [-0.      ,  0.001486, -0.003471],\n",
       "        [ 0.      ,  0.931026,  1.207929]]))"
      ]
     },
     "execution_count": 30,
     "metadata": {},
     "output_type": "execute_result"
    }
   ],
   "source": [
    "path_file=os.path.join('data','water.xyz')\n",
    "open_xyz(path_file)"
   ]
  },
  {
   "cell_type": "code",
   "execution_count": 35,
   "metadata": {},
   "outputs": [
    {
     "name": "stdout",
     "output_type": "stream",
     "text": [
      "H1 to O : 0.969\n",
      "H2 to O : 0.969\n"
     ]
    }
   ],
   "source": [
    "import numpy \n",
    "import os\n",
    "\n",
    "def calculate_distance(atom1_coord, atom2_coord):\n",
    "    \"\"\"\n",
    "    Calculates distance between two points in 3D space.\n",
    "    Inputs: coordinates of two atoms\n",
    "    Return: distance between the atoms\n",
    "    \"\"\"\n",
    "    x_distance = atom1_coord[0] - atom2_coord[0]\n",
    "    y_distance = atom1_coord[1] - atom2_coord[1]\n",
    "    z_distance = atom1_coord[2] - atom2_coord[2]\n",
    "    distance = np.sqrt(x_distance**2+y_distance**2+z_distance**2)\n",
    "    return distance\n",
    "def open_xyz(file_path):\n",
    "    \"\"\"\n",
    "    Opens xyz file, seperates coordinates and symbols and recasts the coordinates as floats.\n",
    "    \"\"\"\n",
    "    xyz_file=np.genfromtxt(file_path,skip_header=2,dtype='unicode')\n",
    "    symbols=xyz_file[:,0]\n",
    "    coordinates=xyz_file[:,1:]\n",
    "    coordinates=coordinates.astype(np.float)\n",
    "    return symbols, coordinates\n",
    "def bond_check_new(distance,min_bond=0,max_bond=1.5):\n",
    "    if distance > min_bond and distance < max_bond:\n",
    "        return True\n",
    "    else:\n",
    "        return False\n",
    "\n",
    "path_file=os.path.join('data','water.xyz')\n",
    "symbols,coordinates=open_xyz(path_file)\n",
    "num_atoms = len(symbols)\n",
    "for num1 in range(0,num_atoms):\n",
    "    for num2 in range(0,num_atoms):\n",
    "        if num1>num2:\n",
    "            distance=calculate_distance(coordinates[num1],coordinates[num2])\n",
    "            #print 3 after the dot: :.3f\n",
    "            if bond_check(distance) is True:\n",
    "                print(F'{symbols[num1]} to {symbols[num2]} : {distance:.3f}')"
   ]
  },
  {
   "cell_type": "code",
   "execution_count": null,
   "metadata": {},
   "outputs": [],
   "source": []
  }
 ],
 "metadata": {
  "kernelspec": {
   "display_name": "Python 3",
   "language": "python",
   "name": "python3"
  },
  "language_info": {
   "codemirror_mode": {
    "name": "ipython",
    "version": 3
   },
   "file_extension": ".py",
   "mimetype": "text/x-python",
   "name": "python",
   "nbconvert_exporter": "python",
   "pygments_lexer": "ipython3",
   "version": "3.7.6"
  }
 },
 "nbformat": 4,
 "nbformat_minor": 4
}
