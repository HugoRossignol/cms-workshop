{
 "cells": [
  {
   "cell_type": "markdown",
   "metadata": {},
   "source": [
    "## Week 2 Homework assignment\n",
    "\n",
    "Write code to read in the information from the xyz file and measure the distance between all the atoms.\n",
    "print in file:\n",
    "\n",
    "O to O: 0.0\n",
    "O to H1: 0.969\n",
    ".\n",
    ".\n",
    ".\n",
    "H2 to H2: 0.0\n",
    "Extensions: Get rid of duplicates, print only bonded distances, meet cut off"
   ]
  },
  {
   "cell_type": "code",
   "execution_count": 1,
   "metadata": {},
   "outputs": [],
   "source": [
    "#Everything is assumed to be in angstroms.\n",
    "import os\n",
    "import numpy as np"
   ]
  },
  {
   "cell_type": "code",
   "execution_count": 2,
   "metadata": {},
   "outputs": [],
   "source": [
    "#Path to file\n",
    "path_file=os.path.join('data','water.xyz')"
   ]
  },
  {
   "cell_type": "code",
   "execution_count": 3,
   "metadata": {},
   "outputs": [],
   "source": [
    "#Open file, read the lines and store in 'lines', close the file.\n",
    "water_file=open(path_file,'r')\n",
    "lines=water_file.readlines()\n",
    "water_file.close()\n",
    "#List with element names.\n",
    "Element=[]\n",
    "#Initialise 2D np array with zeros in which atomic positions will be recorded.\n",
    "Pos=np.zeros((3,3))\n",
    "#From 'lines' read in the name of different elements and their associated positions.\n",
    "#Start from 2 as atomic positions start on line 3.\n",
    "for i in range(2,len(lines)):\n",
    "    #Append name of atom.\n",
    "    Element.append(lines[i].split()[0])\n",
    "    #Loop over x, y and z coordinates of the atom.\n",
    "    for j in range(3):\n",
    "        #Note the i-2 is so that the index matches that of the array defined above.\n",
    "        Pos[i-2][j]=lines[i].split()[j+1]\n",
    "\n",
    "#Array to store all the distances\n",
    "distance=np.zeros(9)\n",
    "#List to store atomic pairs\n",
    "Pair=[]\n",
    "#File to store results.\n",
    "Homework_week_2=open('HW_week_2.0','w+')\n",
    "#Dummy variable that increases to index all the pairs.\n",
    "n=0\n",
    "#Nested loop to go over all atomic pairs.\n",
    "for i in range(len(Pos)):\n",
    "    for j in range(len(Pos)):\n",
    "        #Expression for distance between two points.\n",
    "        distance[n]=np.sqrt(np.sum((Pos[i]-Pos[j])**2))\n",
    "        Pair.append(str(Element[i])+' to '+str(Element[j]+':'))\n",
    "        Homework_week_2.write(F'{Pair[n]} {distance[n]} \\n')\n",
    "        n+=1\n",
    "Homework_week_2.close()"
   ]
  },
  {
   "cell_type": "code",
   "execution_count": 4,
   "metadata": {},
   "outputs": [],
   "source": [
    "less HW_week_2.0"
   ]
  },
  {
   "cell_type": "code",
   "execution_count": 7,
   "metadata": {},
   "outputs": [
    {
     "name": "stdout",
     "output_type": "stream",
     "text": [
      "0.9690005374652793\n",
      "0.9690003348647513\n",
      "1.52693633514957\n"
     ]
    }
   ],
   "source": [
    "# This is essentially the same but prints the minimum number of pair distances.\n",
    "water_file=open(path_file,'r')\n",
    "lines=water_file.readlines()\n",
    "water_file.close()\n",
    "Element=[]\n",
    "Pos=np.zeros((3,3))\n",
    "for i in range(2,len(lines)):\n",
    "    Element.append(lines[i].split()[0])\n",
    "    for j in range(3):\n",
    "        Pos[i-2][j]=lines[i].split()[j+1]\n",
    "\n",
    "distance=np.zeros(9)\n",
    "Pair=[]\n",
    "Homework_week_2=open('HW_week_2.1','w+')\n",
    "n=0\n",
    "for i in range(len(Pos)):\n",
    "    #Start the second loop at the index of the first+1 to get rid of 0 distances (H1-H1) and repeat distances (O-H1/H1-O)\n",
    "    for j in range(i+1,len(Pos)):\n",
    "        distance[n]=np.sqrt(np.sum((Pos[i]-Pos[j])**2))\n",
    "        Pair.append(str(Element[i])+' to '+str(Element[j]+':'))\n",
    "        Homework_week_2.write(F'{Pair[n]} {distance[n]} \\n')\n",
    "        print(distance[n])\n",
    "        n+=1\n",
    "Homework_week_2.close()"
   ]
  },
  {
   "cell_type": "markdown",
   "metadata": {},
   "source": [
    "## Comments\n",
    "\n",
    "Because of the way your `for` loop works above, there is no need to use this `n` for indexing. If you are just writing to a file within the loop, you could do the following using negative indexing\n",
    "\n",
    "```\n",
    "distance = []\n",
    "Pair = []\n",
    "Homework_week_2=open('HW_week_2.1','w+')\n",
    "for i in range(len(Pos)):\n",
    "    for j in range(i+1,len(Pos)):\n",
    "        distance.append(np.sqrt(np.sum((Pos[i]-Pos[j])**2))\n",
    "        Pair.append(str(Element[i])+' to '+str(Element[j]+':'))\n",
    "        Homework_week_2.write(F'{Pair[-1]} {distance[-1]} \\n')\n",
    "        print(distance[-1])\n",
    "\n",
    "```\n",
    "\n",
    "\n",
    "or, if you didn't care to keep a list of distances outside of the loop,\n",
    "\n",
    "```\n",
    "Homework_week_2=open('HW_week_2.1','w+')\n",
    "for i in range(len(Pos)):\n",
    "    for j in range(i+1,len(Pos)):\n",
    "        distance = np.sqrt(np.sum((Pos[i]-Pos[j])**2))\n",
    "        Pair = str(Element[i])+' to '+str(Element[j]+':')\n",
    "        Homework_week_2.write(F'{Pair} {distance} \\n')\n",
    "        print(distance[-1])\n",
    "\n",
    "```"
   ]
  },
  {
   "cell_type": "code",
   "execution_count": null,
   "metadata": {},
   "outputs": [],
   "source": []
  },
  {
   "cell_type": "code",
   "execution_count": 5,
   "metadata": {},
   "outputs": [],
   "source": [
    "#Identical to above but with an if statement in the nested loop to check whether\n",
    "# an atomic distance is shorter than a typical bond length 'bond_distance'.\n",
    "water_file=open(path_file,'r')\n",
    "lines=water_file.readlines()\n",
    "water_file.close()\n",
    "Element=[]\n",
    "Pos=np.zeros((3,3))\n",
    "for i in range(2,len(lines)):\n",
    "    Element.append(lines[i].split()[0])\n",
    "    for j in range(3):\n",
    "        Pos[i-2][j]=lines[i].split()[j+1]\n",
    "\n",
    "bond_distance=1.00 #larger than typical O-H (0.96) and H-H (0.74)  bond lengths.\n",
    "distance=np.zeros(9)\n",
    "Pair=[]\n",
    "Homework_week_2=open('HW_week_2.2','w+')\n",
    "n=0\n",
    "for i in range(len(Pos)):\n",
    "    for j in range(i+1,len(Pos)):\n",
    "        distance[n]=np.sqrt(np.sum((Pos[i]-Pos[j])**2))\n",
    "        Pair.append(str(Element[i])+' to '+str(Element[j]+':'))\n",
    "        if distance[n] < bond_distance:\n",
    "            Homework_week_2.write(F'{Pair[n]} {distance[n]} \\n')\n",
    "        n+=1\n",
    "Homework_week_2.close()"
   ]
  },
  {
   "cell_type": "code",
   "execution_count": null,
   "metadata": {},
   "outputs": [],
   "source": []
  },
  {
   "cell_type": "code",
   "execution_count": null,
   "metadata": {},
   "outputs": [],
   "source": []
  }
 ],
 "metadata": {
  "kernelspec": {
   "display_name": "Python 3",
   "language": "python",
   "name": "python3"
  },
  "language_info": {
   "codemirror_mode": {
    "name": "ipython",
    "version": 3
   },
   "file_extension": ".py",
   "mimetype": "text/x-python",
   "name": "python",
   "nbconvert_exporter": "python",
   "pygments_lexer": "ipython3",
   "version": "3.6.8"
  }
 },
 "nbformat": 4,
 "nbformat_minor": 4
}
